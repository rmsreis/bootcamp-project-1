{
 "cells": [
  {
   "cell_type": "code",
   "execution_count": 1,
   "metadata": {},
   "outputs": [],
   "source": [
    "#Notebook to visualize final datasets\n",
    "%matplotlib qt\n",
    "import matplotlib.pyplot as plt\n",
    "import csv\n",
    "import pandas as pd\n",
    "import numpy as np\n",
    "import pandas_profiling  #pip install pandas-profiling"
   ]
  },
  {
   "cell_type": "code",
   "execution_count": 2,
   "metadata": {},
   "outputs": [],
   "source": [
    "# Reading final datasets\n",
    "\n",
    "all_xG = pd.read_csv('cleandata/all_xG.csv')\n",
    "nodup_xG = pd.read_csv('cleandata/nodup_xG.csv')\n",
    "\n",
    "attackers = pd.read_csv('cleandata/attackers.csv')"
   ]
  },
  {
   "cell_type": "code",
   "execution_count": 3,
   "metadata": {},
   "outputs": [],
   "source": [
    "#all_xG.profile_report(style={'full_width':True})\n",
    "#attackers.head(5)"
   ]
  },
  {
   "cell_type": "code",
   "execution_count": 4,
   "metadata": {},
   "outputs": [],
   "source": [
    "#adding last name column to all_xG and nodup_xG datasets\n",
    "# I used the same Patrick's method in the notebook \"Attacker_Data_Cleaned\"\n",
    "\n",
    "lname_all_xG = []\n",
    "for name in all_xG['player_name']:\n",
    "    lname_all_xG.append(name.split(\" \")[-1])\n",
    "    \n",
    "all_xG.insert(loc=3, column='Last_Name', value=lname_all_xG)\n",
    "\n",
    "\n",
    "lname_nodup_xG = []\n",
    "for name in nodup_xG['player_name']:\n",
    "    lname_nodup_xG.append(name.split(\" \")[-1])\n",
    "    \n",
    "nodup_xG.insert(loc=3, column='Last_Name', value=lname_nodup_xG)\n"
   ]
  },
  {
   "cell_type": "code",
   "execution_count": 5,
   "metadata": {},
   "outputs": [],
   "source": [
    "#merge all data by last name\n",
    "\n",
    "data_all = pd.merge(attackers,all_xG, on=['Last_Name'], how ='outer')\n",
    "data_nodup = pd.merge(attackers,nodup_xG, on=['Last_Name'], how ='outer')"
   ]
  },
  {
   "cell_type": "code",
   "execution_count": 6,
   "metadata": {},
   "outputs": [],
   "source": [
    "# Plot xG and xA, Goals and Assists from top 10 per year\n",
    "\n",
    "#top_16 = data_nodup.nlargest(10,['goals_16','assists_16'])\n",
    "\n",
    "top_goals_16 = data_nodup.nlargest(5, 'goals_16')\n",
    "top_goals_17 = data_nodup.nlargest(5, 'goals_17')\n",
    "top_goals_18 = data_nodup.nlargest(5, 'goals_18')\n",
    "\n",
    "#top_xG_16 = data_nodup.nlargest(10, 'xG_16')\n",
    "#top_xG_17 = data_nodup.nlargest(10, 'xG_17')\n",
    "#top_xG_18 = data_nodup.nlargest(10, 'xG_18')\n",
    "\n",
    "top_assist_16 = data_nodup.nlargest(10, 'assists_16')\n",
    "top_assist_17 = data_nodup.nlargest(10, 'assists_17')\n",
    "top_assist_18 = data_nodup.nlargest(10, 'assists_18')\n",
    "\n",
    "#top_xA_16 = data_nodup.nlargest(10, 'xA_16')\n",
    "#top_xA_17 = data_nodup.nlargest(10, 'xA_17')\n",
    "#top_xA_18 = data_nodup.nlargest(10, 'xA_18')"
   ]
  },
  {
   "cell_type": "code",
   "execution_count": 7,
   "metadata": {},
   "outputs": [],
   "source": [
    "#top_goals_16\n",
    "#len(top_goals_16['player_name'])"
   ]
  },
  {
   "cell_type": "code",
   "execution_count": 8,
   "metadata": {
    "scrolled": true
   },
   "outputs": [],
   "source": [
    "#leagues total goals per year\n",
    "labels = nodup_xG['league_18'].unique()[0:5]"
   ]
  },
  {
   "cell_type": "code",
   "execution_count": 9,
   "metadata": {},
   "outputs": [],
   "source": [
    "#Comparison of xG data to shooting relevant stats\n",
    "\n",
    "\n",
    "\n",
    "\n",
    "\n",
    "#plot per year and league\n",
    "\n"
   ]
  },
  {
   "cell_type": "code",
   "execution_count": 10,
   "metadata": {},
   "outputs": [],
   "source": [
    "#Comparison of xA data to Passing relevant stats\n",
    "\n",
    "\n",
    "\n",
    "\n",
    "\n",
    "\n",
    "#Plot per year and league"
   ]
  },
  {
   "cell_type": "code",
   "execution_count": 11,
   "metadata": {},
   "outputs": [],
   "source": [
    "#Sorting out top 5 for Radar Plot\n",
    "top_16 = data_nodup.nlargest(5, 'goals_16')\n",
    "top_17 = data_nodup.nlargest(5, 'goals_17')\n",
    "top_18 = data_nodup.nlargest(5, 'goals_18')"
   ]
  },
  {
   "cell_type": "code",
   "execution_count": 20,
   "metadata": {},
   "outputs": [],
   "source": [
    "# Comparison of the players evolution\n",
    "# modified from https://python-graph-gallery.com/391-radar-chart-with-several-individuals/\n",
    "\n",
    "from math import pi\n",
    "\n",
    "# Set data\n",
    "df = pd.DataFrame({\n",
    "    'players': top_16['Last_Name'],\n",
    "    'Goals': top_16['goals_16'],\n",
    "    'Assists': top_16['assists_16'],\n",
    "    'xG': top_16['xG_16'],\n",
    "    'xA': top_16['xA_16'],\n",
    "    'FIFA Ratings': top_16['Rating_2017']})"
   ]
  },
  {
   "cell_type": "code",
   "execution_count": 21,
   "metadata": {},
   "outputs": [],
   "source": [
    "#Pick relevant stats\n",
    "labels=np.array(['Goals', 'Assists', 'xA', 'xG']) \n",
    "\n",
    "stats=df.loc[1,labels].values\n",
    "\n",
    "angles=np.linspace(0, 2*np.pi, len(labels), endpoint=False)\n",
    "\n",
    "# close the plot\n",
    "stats=np.concatenate((stats,[stats[0]]))\n",
    "angles=np.concatenate((angles,[angles[0]]))\n",
    "\n",
    "\n",
    "fig=plt.figure()\n",
    "\n",
    "ax = fig.add_subplot(111, polar=True)\n",
    "ax.plot(angles, stats, 'o-', linewidth=2)\n",
    "ax.fill(angles, stats, alpha=0.1)\n",
    "ax.set_thetagrids(angles * 180/np.pi, labels)\n",
    "ax.set_title([df.loc[1,'players']])\n",
    "ax.grid(True)"
   ]
  },
  {
   "cell_type": "code",
   "execution_count": null,
   "metadata": {},
   "outputs": [],
   "source": []
  },
  {
   "cell_type": "code",
   "execution_count": null,
   "metadata": {},
   "outputs": [],
   "source": []
  },
  {
   "cell_type": "code",
   "execution_count": null,
   "metadata": {},
   "outputs": [],
   "source": []
  },
  {
   "cell_type": "code",
   "execution_count": null,
   "metadata": {},
   "outputs": [],
   "source": []
  },
  {
   "cell_type": "code",
   "execution_count": null,
   "metadata": {},
   "outputs": [],
   "source": []
  }
 ],
 "metadata": {
  "kernelspec": {
   "display_name": "Python 3",
   "language": "python",
   "name": "python3"
  },
  "language_info": {
   "codemirror_mode": {
    "name": "ipython",
    "version": 3
   },
   "file_extension": ".py",
   "mimetype": "text/x-python",
   "name": "python",
   "nbconvert_exporter": "python",
   "pygments_lexer": "ipython3",
   "version": "3.7.4"
  }
 },
 "nbformat": 4,
 "nbformat_minor": 2
}

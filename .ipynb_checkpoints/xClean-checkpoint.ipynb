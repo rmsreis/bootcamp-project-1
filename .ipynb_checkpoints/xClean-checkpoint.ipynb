{
 "cells": [
  {
   "cell_type": "code",
   "execution_count": 1,
   "metadata": {},
   "outputs": [],
   "source": [
    "#Import dependencies\n",
    "import pandas as pd\n",
    "import numpy as np"
   ]
  },
  {
   "cell_type": "code",
   "execution_count": 2,
   "metadata": {},
   "outputs": [
    {
     "name": "stdout",
     "output_type": "stream",
     "text": [
      "Names of dataframes:\n",
      "EPL18_df\n",
      "La_liga18_df\n",
      "Bundesliga18_df\n",
      "Serie_A18_df\n",
      "Ligue_118_df\n",
      "EPL17_df\n",
      "La_liga17_df\n",
      "Bundesliga17_df\n",
      "Serie_A17_df\n",
      "Ligue_117_df\n",
      "EPL16_df\n",
      "La_liga16_df\n",
      "Bundesliga16_df\n",
      "Serie_A16_df\n",
      "Ligue_116_df\n"
     ]
    }
   ],
   "source": [
    "#Create list of leagues and years to retrieve files\n",
    "leagues = ['EPL', 'La_liga', 'Bundesliga', 'Serie_A', 'Ligue_1']\n",
    "years = ['2018', '2017', '2016']\n",
    "\n",
    "print(\"Names of dataframes:\")\n",
    "\n",
    "#Use loop to open csvs and read data into dataframes\n",
    "for year in years:\n",
    "    for league in leagues:\n",
    "        path = f\"newdata/{league}_{year}.csv\"\n",
    "        \n",
    "        #Use globals to name dataframe variables after league and year, create league column and drop unneeded columns\n",
    "        globals()[f\"{league}{year[2:]}_df\"] = pd.read_csv(path, encoding='utf-8')\n",
    "        globals()[f\"{league}{year[2:]}_df\"]['league'] = league\n",
    "        globals()[f\"{league}{year[2:]}_df\"].drop(columns=['yellow_cards', 'red_cards', 'position',\n",
    "                                                          'xGChain', 'xGBuildup', 'season'], inplace=True)\n",
    "        \n",
    "        #Print names of dataframes\n",
    "        print(f\"{league}{year[2:]}_df\")"
   ]
  },
  {
   "cell_type": "code",
   "execution_count": 3,
   "metadata": {},
   "outputs": [],
   "source": [
    "#Create dataframes of players by year\n",
    "\n",
    "for year in years:\n",
    "    for league in leagues:\n",
    "        if league == 'EPL':\n",
    "            pass\n",
    "        else:\n",
    "            globals()[f\"EPL{year[2:]}_df\"] = globals()[f\"EPL{year[2:]}_df\"].append(globals()[f\"{league}{year[2:]}_df\"])"
   ]
  },
  {
   "cell_type": "code",
   "execution_count": 4,
   "metadata": {},
   "outputs": [],
   "source": [
    "#Create dataframe with all leagues and years \n",
    "xall_df = EPL18_df.merge(EPL17_df, on='id', how='outer', suffixes=('_18', '_17'))\n",
    "xall_df = xall_df.merge(EPL16_df, on='id', how='outer')\n",
    "\n",
    "#Put all names in one column\n",
    "#Index of the name columns from the 2017 and 2016 seasons\n",
    "for name_col_index in [13, 25]:\n",
    "    \n",
    "    #Create list of indexes of players who did not play in top league in 2018\n",
    "    pl_name_list = xall_df.index[xall_df.isna()['player_name_18'] == True].tolist()\n",
    "    \n",
    "    #Use loop to add 2017 names and then 2016 names\n",
    "    for nan_index in pl_name_list:\n",
    "        xall_df.iloc[nan_index, 1] = xall_df.iloc[nan_index, name_col_index]\n",
    "\n",
    "#Fill NaN columns with 0\n",
    "xall_df.fillna(0, inplace=True)\n",
    "\n",
    "#Drop duplicate columns\n",
    "xall_df.drop(columns=['player_name_17', 'player_name'], inplace=True)\n",
    "\n",
    "#Rename columns for 2016-17 season\n",
    "xall_df.rename(columns={'games': 'games_16',\n",
    "                       'time': 'time_16',\n",
    "                       'goals': 'goals_16',\n",
    "                       'xG': 'xG_16',\n",
    "                       'assists': 'assists_16',\n",
    "                       'xA': 'xA_16',\n",
    "                       'shots': 'shots_16',\n",
    "                       'key_passes': 'key_passes_16',\n",
    "                       'team_title': 'team_title_16',\n",
    "                       'npg': 'npg_16',\n",
    "                       'npxG': 'npxG_16',\n",
    "                       'league': 'league_16',\n",
    "                       'player_name_18': 'player_name'}, inplace=True)"
   ]
  },
  {
   "cell_type": "code",
   "execution_count": 5,
   "metadata": {},
   "outputs": [],
   "source": [
    "#Write dataframe to csv\n",
    "xall_df.to_csv('cleandata/all_xg.csv', encoding='utf-8')"
   ]
  },
  {
   "cell_type": "code",
   "execution_count": 6,
   "metadata": {},
   "outputs": [],
   "source": [
    "#Make a copy of the dataframe to remove duplicates\n",
    "nodup_df = xall_df.copy()\n",
    "\n",
    "#Get indexes of duplicates\n",
    "dup_list = nodup_df.index[nodup_df.duplicated(subset='id') == True].tolist()\n",
    "\n",
    "#Add up player stats for when the switched leagues midseason\n",
    "for dup in dup_list:\n",
    "    if nodup_df.iloc[dup - 1, 10] != nodup_df.iloc[dup, 10]:\n",
    "        nodup_df.iloc[dup, 2:13] = nodup_df.iloc[dup - 1, 2:13] + nodup_df.iloc[dup, 2:13]\n",
    "    elif nodup_df.iloc[dup - 1, 22] != nodup_df.iloc[dup, 22]:\n",
    "        nodup_df.iloc[dup, 14:25] = nodup_df.iloc[dup - 1, 14:25] + nodup_df.iloc[dup, 14:25]\n",
    "    elif nodup_df.iloc[dup - 1, 34] != nodup_df.iloc[dup, 34]:\n",
    "        nodup_df.iloc[dup, 26:37] = nodup_df.iloc[dup - 1, 26:37] + nodup_df.iloc[dup, 26:37]\n",
    "        \n",
    "#Drop duplicates and reset the index        \n",
    "nodup_df.drop_duplicates(subset='id', keep='last', inplace=True)\n",
    "nodup_df.reset_index(inplace=True, drop=True)"
   ]
  },
  {
   "cell_type": "code",
   "execution_count": 7,
   "metadata": {},
   "outputs": [],
   "source": [
    "#Write dataframe to csv\n",
    "nodup_df.to_csv('cleandata/nodup_xg.csv', encoding='utf-8')"
   ]
  },
  {
   "cell_type": "code",
   "execution_count": null,
   "metadata": {},
   "outputs": [],
   "source": []
  },
  {
   "cell_type": "code",
   "execution_count": null,
   "metadata": {},
   "outputs": [],
   "source": []
  },
  {
   "cell_type": "code",
   "execution_count": null,
   "metadata": {},
   "outputs": [],
   "source": []
  },
  {
   "cell_type": "code",
   "execution_count": null,
   "metadata": {},
   "outputs": [],
   "source": []
  },
  {
   "cell_type": "code",
   "execution_count": null,
   "metadata": {},
   "outputs": [],
   "source": []
  },
  {
   "cell_type": "code",
   "execution_count": null,
   "metadata": {},
   "outputs": [],
   "source": []
  }
 ],
 "metadata": {
  "kernelspec": {
   "display_name": "Python 3",
   "language": "python",
   "name": "python3"
  },
  "language_info": {
   "codemirror_mode": {
    "name": "ipython",
    "version": 3
   },
   "file_extension": ".py",
   "mimetype": "text/x-python",
   "name": "python",
   "nbconvert_exporter": "python",
   "pygments_lexer": "ipython3",
   "version": "3.7.4"
  }
 },
 "nbformat": 4,
 "nbformat_minor": 2
}

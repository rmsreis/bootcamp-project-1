{
 "cells": [
  {
   "cell_type": "code",
   "execution_count": 1,
   "metadata": {},
   "outputs": [],
   "source": [
    "#Import Libraries\n",
    "from bs4 import BeautifulSoup\n",
    "from urllib.request import urlopen\n",
    "import pandas as pd\n",
    "import csv"
   ]
  },
  {
   "cell_type": "code",
   "execution_count": 2,
   "metadata": {},
   "outputs": [],
   "source": [
    "#Define leagues and years to get data from\n",
    "leagues = ['EPL', 'La_liga', 'Bundesliga', 'Serie_A', 'Ligue_1']\n",
    "years = ['2018', '2017', '2016']\n",
    "seasons = [1819, 1718, 1617]"
   ]
  },
  {
   "cell_type": "code",
   "execution_count": 3,
   "metadata": {},
   "outputs": [],
   "source": [
    "#Loop through each league for each year\n",
    "for year, season in zip(years, seasons):\n",
    "    for league in leagues:\n",
    "        #Get URL for league and year\n",
    "        quote_page = f\"https://understat.com/league/{league}/{year}\"\n",
    "    \n",
    "        #Query website\n",
    "        page = urlopen(quote_page)\n",
    "\n",
    "        #Parse URLs using BeautifulSoup\n",
    "        soup = BeautifulSoup(page, \"html.parser\")\n",
    "        \n",
    "        #Get string of player data from html\n",
    "        plhtml = soup.findAll(\"script\")[3].getText()\n",
    "        \n",
    "        #Encode into readable format\n",
    "        plencode = plhtml.encode('utf-8').decode('unicode_escape')\n",
    "        \n",
    "        #Remove extra characters to have a list of dictionaries\n",
    "        players = plencode[32:-4]\n",
    "        \n",
    "        #Create dataframe of players\n",
    "        players_df = pd.read_json(players)\n",
    "        \n",
    "        #Add season column to dataframe\n",
    "        players_df['season'] = season\n",
    "        \n",
    "        #Write dataframe to csv\n",
    "        players_df.to_csv(f\"newdata/{league}_{year}.csv\", index=False, encoding='utf-8')"
   ]
  },
  {
   "cell_type": "code",
   "execution_count": null,
   "metadata": {},
   "outputs": [],
   "source": []
  }
 ],
 "metadata": {
  "kernelspec": {
   "display_name": "Python 3",
   "language": "python",
   "name": "python3"
  },
  "language_info": {
   "codemirror_mode": {
    "name": "ipython",
    "version": 3
   },
   "file_extension": ".py",
   "mimetype": "text/x-python",
   "name": "python",
   "nbconvert_exporter": "python",
   "pygments_lexer": "ipython3",
   "version": "3.7.4"
  }
 },
 "nbformat": 4,
 "nbformat_minor": 2
}

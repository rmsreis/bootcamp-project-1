{
 "cells": [
  {
   "cell_type": "code",
   "execution_count": 2,
   "metadata": {},
   "outputs": [],
   "source": [
    " # Dependencies\n",
    "import pandas as pd\n",
    "\n",
    "# Make a reference to the books.csv file path\n",
    "f17path = \"newdata/FIFA17.csv\"\n",
    "f18path = \"newdata/FIFA18.csv\"\n",
    "f19path = \"newdata/FIFA19.csv\"\n",
    "\n",
    "# Import the books.csv file as a DataFrame\n",
    "read17 = pd.read_csv(f17path, encoding=\"UTF-8\")\n",
    "read18 = pd.read_csv(f18path, encoding=\"UTF-8\")\n",
    "read19 = pd.read_csv(f19path, encoding=\"UTF-8\")"
   ]
  },
  {
   "cell_type": "code",
   "execution_count": 3,
   "metadata": {},
   "outputs": [
    {
     "name": "stderr",
     "output_type": "stream",
     "text": [
      "C:\\ProgramData\\Anaconda3\\lib\\site-packages\\ipykernel_launcher.py:26: SettingWithCopyWarning: \n",
      "A value is trying to be set on a copy of a slice from a DataFrame.\n",
      "Try using .loc[row_indexer,col_indexer] = value instead\n",
      "\n",
      "See the caveats in the documentation: http://pandas.pydata.org/pandas-docs/stable/user_guide/indexing.html#returning-a-view-versus-a-copy\n",
      "C:\\ProgramData\\Anaconda3\\lib\\site-packages\\ipykernel_launcher.py:35: SettingWithCopyWarning: \n",
      "A value is trying to be set on a copy of a slice from a DataFrame.\n",
      "Try using .loc[row_indexer,col_indexer] = value instead\n",
      "\n",
      "See the caveats in the documentation: http://pandas.pydata.org/pandas-docs/stable/user_guide/indexing.html#returning-a-view-versus-a-copy\n"
     ]
    }
   ],
   "source": [
    "# Get Attackers\n",
    "# Put DOB for 17 and 18 in same format\n",
    "read17['Birth_Date'] = read17['Birth_Date'].str.replace('/', '-', regex=True)\n",
    "\n",
    "# Find Attackers for each league\n",
    "# FIFA17\n",
    "attacker17 = []\n",
    "for posit in read17[\"Preffered_Position\"]:\n",
    "    if (\"ST\" in posit) == True:\n",
    "        attacker17.append(True)\n",
    "    elif (\"CF\" in posit) == True:\n",
    "        attacker17.append(True)\n",
    "    elif (\"RW\" in posit) == True:\n",
    "        attacker17.append(True)\n",
    "    elif (\"LW\" in posit) == True:\n",
    "        attacker17.append(True)        \n",
    "    else:\n",
    "        attacker17.append(False)\n",
    "read17['attacker'] = attacker17\n",
    "att17 = read17.loc[read17[\"attacker\"] == True, :]\n",
    "\n",
    "lname17 = []\n",
    "for name in att17['Name']:\n",
    "    lname17.append(name.split(\" \")[-1])\n",
    "\n",
    "att17['Last_Name'] = lname17\n",
    "\n",
    "# FIFA18\n",
    "att18 = read18.loc[((read18[\"prefers_rw\"] == True) | (read18[\"prefers_lw\"] == True) | (read18[\"prefers_st\"] == True) | (read18[\"prefers_cf\"] == True) | (read18[\"prefers_lw\"] == True)) == True]\n",
    "\n",
    "lname18 = []\n",
    "for name in att18['name']:\n",
    "    lname18.append(name.split(\" \")[-1])\n",
    "\n",
    "att18['Last_Name'] = lname18    \n",
    "    \n",
    "# FIFA19\n",
    "attacker19 = []\n",
    "for pos in read19[\"Position\"]:\n",
    "    if pos == \"ST\":\n",
    "        attacker19.append(True)\n",
    "    elif pos == \"CF\":\n",
    "        attacker19.append(True)\n",
    "    elif pos == \"CAM\":\n",
    "        attacker19.append(True)\n",
    "    elif pos == \"RF\":\n",
    "        attacker19.append(True) \n",
    "    elif pos == \"RAM\":\n",
    "        attacker19.append(True) \n",
    "    elif pos == \"RS\":\n",
    "        attacker19.append(True)  \n",
    "    elif pos == \"RW\":\n",
    "        attacker19.append(True)\n",
    "    elif pos == \"RM\":\n",
    "        attacker19.append(True)\n",
    "    elif pos == \"LF\":\n",
    "        attacker19.append(True)\n",
    "    elif pos == \"LS\":\n",
    "        attacker19.append(True) \n",
    "    elif pos == \"LW\":\n",
    "        attacker19.append(True)\n",
    "    elif pos == \"LAM\":\n",
    "        attacker19.append(True) \n",
    "    elif pos == \"LM\":\n",
    "        attacker19.append(True) \n",
    "    else:\n",
    "        attacker19.append(False)\n",
    "\n",
    "read19['attacker'] = attacker19\n",
    "att19 = read19.loc[read19[\"attacker\"] == True] \n"
   ]
  },
  {
   "cell_type": "code",
   "execution_count": 7,
   "metadata": {},
   "outputs": [],
   "source": [
    "# Select columns from each \n",
    "# FIFA 17\n",
    "att17df  = att17[['Name','Last_Name','Birth_Date','Club','Rating','Attacking_Position','Finishing','Shot_Power','Long_Shots','Volleys','Penalties','Vision','Crossing','Freekick_Accuracy','Short_Pass','Long_Pass','Curve']]\n",
    "att17df = att17df.rename(columns={'Club':'Club_2017',\"Rating\":\"Rating_2017\",'Attacking_Position':'Positioning_2017','Finishing':'Finishing_2017','Shot_Power':'Shot_Power_2017','Long_Shots':'Long_Shots_2017','Volleys':'Volleys_2017','Penalties':'Penalties_2017','Vision':'Vision_2017','Crossing':'Crossing_2017','Freekick_Accuracy':'FKAccuracy_2017','Short_Pass':'Short_Pass_2017','Long_Pass':'Long_Pass_2017','Curve':'Curve_2017'})\n",
    "\n",
    "# FIFA 18\n",
    "#'name':'Name', (maybe need to add back to 18df)\n",
    "# need to interpret preferred position from the true/false fields for 18, fix birth dates to match 17\n",
    "att18df  = att18[['name','Last_Name','ID','club','overall','positioning','finishing','shot_power','long_shots','volleys','penalties','volleys','penalties','vision','crossing','free_kick_accuracy','short_passing','long_passing','curve']]\n",
    "att18df = att18df.rename(columns={'club':'Club_2018','overall':'Overall_2018','positioning':'Positioning_2018','finishing':'Finishing_2018','shot_power':'Shot_Power_2018','long_shots':'Long_Shots_2018','volleys':'Volleys_2018','penalties':'Penalties_2018','volleys':'Volleys_2018','penalties':'Penalties_2018','vision':'Vision_2018','crossing':'Crossing_2018','free_kick_accuracy':'FKAccuracy_2018','short_passing':'Short_Pass_2018','long_passing':'Long_Pass_2018','curve':'Curve_2018'})\n",
    "\n",
    "birth = []\n",
    "for date in att18['birth_date']:\n",
    "    split = date.split(\"-\")\n",
    "    newdate = split[1]+\"-\"+split[2]+\"-\"+split[0]\n",
    "    birth.append(newdate)\n",
    "\n",
    "att18df['Birth_Date'] = birth\n",
    "\n",
    "# FIFA 19\n",
    "# need to interpret preferred position from the true/false fields for 18\n",
    "att19df = att19[['Name','ID','Club','Overall','Positioning','Finishing','ShotPower','LongShots','Volleys','Penalties','Vision','Crossing','FKAccuracy','ShortPassing','LongPassing','Curve']]\n",
    "att19df = att19df.rename(columns={'Club':'Club_2019','Overall':'Overall_2019','Positioning':'Positioning_2019','Finishing':'Finishing_2019','ShotPower':'Shot_Power_2019','LongShots':'Long_Shots_2019','Volleys':'Volleys_2019','Penalties':'Penalties_2019','Vision':'Vision_2019','Crossing':'Crossing_2019','FKAccuracy':'FKAccuracy_2019','ShortPassing':'Short_Pass_2019','LongPassing':'Long_Pass_2019','Curve':'Curve_2019'})\n",
    "    "
   ]
  },
  {
   "cell_type": "code",
   "execution_count": 8,
   "metadata": {},
   "outputs": [],
   "source": [
    "# Merge into DF\n",
    "attackers0 = pd.merge(att17df, att18df, on=['Birth_Date','Last_Name'], how='outer')\n",
    "attackers0 = attackers0.dropna()\n",
    "attackers = pd.merge(attackers0, att19df, on=\"ID\", how='outer')\n",
    "attackers = attackers.dropna()\n"
   ]
  },
  {
   "cell_type": "code",
   "execution_count": 9,
   "metadata": {},
   "outputs": [],
   "source": [
    "attackers.to_csv (\"cleandata/attackers.csv\", index = None, header=True)\n",
    "attackers0.to_csv (\"cleandata/attackers0.csv\", index = None, header=True)"
   ]
  },
  {
   "cell_type": "code",
   "execution_count": null,
   "metadata": {},
   "outputs": [],
   "source": []
  }
 ],
 "metadata": {
  "kernelspec": {
   "display_name": "Python 3",
   "language": "python",
   "name": "python3"
  },
  "language_info": {
   "codemirror_mode": {
    "name": "ipython",
    "version": 3
   },
   "file_extension": ".py",
   "mimetype": "text/x-python",
   "name": "python",
   "nbconvert_exporter": "python",
   "pygments_lexer": "ipython3",
   "version": "3.7.4"
  }
 },
 "nbformat": 4,
 "nbformat_minor": 2
}
